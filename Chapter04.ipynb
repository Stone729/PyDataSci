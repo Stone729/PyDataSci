{
 "metadata": {
  "language_info": {
   "codemirror_mode": {
    "name": "ipython",
    "version": 3
   },
   "file_extension": ".py",
   "mimetype": "text/x-python",
   "name": "python",
   "nbconvert_exporter": "python",
   "pygments_lexer": "ipython3",
   "version": "3.7.7-final"
  },
  "orig_nbformat": 2,
  "kernelspec": {
   "name": "python37764bitcondaconda2e758d44d5f94ab7b6e70ac5473a79da",
   "display_name": "Python 3.7.7 64-bit ('Conda': conda)"
  }
 },
 "nbformat": 4,
 "nbformat_minor": 2,
 "cells": [
  {
   "cell_type": "markdown",
   "metadata": {},
   "source": [
    "## 4.1 The Numpy ndarray: A Multidimensional Array Object"
   ]
  },
  {
   "cell_type": "code",
   "execution_count": 1,
   "metadata": {},
   "outputs": [],
   "source": [
    "import numpy as np"
   ]
  },
  {
   "cell_type": "code",
   "execution_count": 2,
   "metadata": {},
   "outputs": [],
   "source": [
    "# Generate some random data\n",
    "data = np.random.randn(2, 3)"
   ]
  },
  {
   "cell_type": "code",
   "execution_count": 3,
   "metadata": {},
   "outputs": [
    {
     "output_type": "execute_result",
     "data": {
      "text/plain": "array([[ 1.21142262, -0.00881045,  0.20922084],\n       [-0.68302048,  0.66703592, -0.90800569]])"
     },
     "metadata": {},
     "execution_count": 3
    }
   ],
   "source": [
    "data"
   ]
  },
  {
   "cell_type": "code",
   "execution_count": 4,
   "metadata": {},
   "outputs": [
    {
     "output_type": "execute_result",
     "data": {
      "text/plain": "array([[12.1142262 , -0.08810452,  2.09220836],\n       [-6.83020479,  6.67035916, -9.08005687]])"
     },
     "metadata": {},
     "execution_count": 4
    }
   ],
   "source": [
    "data*10"
   ]
  },
  {
   "cell_type": "code",
   "execution_count": 5,
   "metadata": {},
   "outputs": [
    {
     "output_type": "execute_result",
     "data": {
      "text/plain": "array([[ 2.42284524, -0.0176209 ,  0.41844167],\n       [-1.36604096,  1.33407183, -1.81601137]])"
     },
     "metadata": {},
     "execution_count": 5
    }
   ],
   "source": [
    "data + data"
   ]
  },
  {
   "cell_type": "code",
   "execution_count": 6,
   "metadata": {},
   "outputs": [
    {
     "output_type": "execute_result",
     "data": {
      "text/plain": "(2, 3)"
     },
     "metadata": {},
     "execution_count": 6
    }
   ],
   "source": [
    "data.shape"
   ]
  },
  {
   "cell_type": "code",
   "execution_count": 7,
   "metadata": {},
   "outputs": [
    {
     "output_type": "execute_result",
     "data": {
      "text/plain": "dtype('float64')"
     },
     "metadata": {},
     "execution_count": 7
    }
   ],
   "source": [
    "data.dtype"
   ]
  },
  {
   "cell_type": "markdown",
   "metadata": {},
   "source": [
    "### Creating ndarrays"
   ]
  },
  {
   "cell_type": "code",
   "execution_count": 8,
   "metadata": {},
   "outputs": [],
   "source": [
    "data1 = [6, 7.5, 8, 0, 1]"
   ]
  },
  {
   "cell_type": "code",
   "execution_count": 9,
   "metadata": {},
   "outputs": [],
   "source": [
    "arr1 = np.array(data1)"
   ]
  },
  {
   "cell_type": "code",
   "execution_count": 10,
   "metadata": {},
   "outputs": [
    {
     "output_type": "execute_result",
     "data": {
      "text/plain": "array([6. , 7.5, 8. , 0. , 1. ])"
     },
     "metadata": {},
     "execution_count": 10
    }
   ],
   "source": [
    "arr1"
   ]
  },
  {
   "cell_type": "code",
   "execution_count": 11,
   "metadata": {},
   "outputs": [
    {
     "output_type": "execute_result",
     "data": {
      "text/plain": "array([[1, 2, 3, 4],\n       [5, 6, 7, 8]])"
     },
     "metadata": {},
     "execution_count": 11
    }
   ],
   "source": [
    "data2 = [[1, 2, 3, 4], [5, 6, 7, 8]]\n",
    "arr2 = np.array(data2)\n",
    "arr2"
   ]
  },
  {
   "cell_type": "code",
   "execution_count": 12,
   "metadata": {},
   "outputs": [
    {
     "output_type": "execute_result",
     "data": {
      "text/plain": "2"
     },
     "metadata": {},
     "execution_count": 12
    }
   ],
   "source": [
    "arr2.ndim"
   ]
  },
  {
   "cell_type": "code",
   "execution_count": 13,
   "metadata": {},
   "outputs": [
    {
     "output_type": "execute_result",
     "data": {
      "text/plain": "array([0., 0., 0., 0., 0., 0., 0., 0., 0., 0.])"
     },
     "metadata": {},
     "execution_count": 13
    }
   ],
   "source": [
    "np.zeros(10)"
   ]
  },
  {
   "cell_type": "code",
   "execution_count": 14,
   "metadata": {},
   "outputs": [
    {
     "output_type": "execute_result",
     "data": {
      "text/plain": "array([[0., 0., 0., 0., 0., 0.],\n       [0., 0., 0., 0., 0., 0.],\n       [0., 0., 0., 0., 0., 0.]])"
     },
     "metadata": {},
     "execution_count": 14
    }
   ],
   "source": [
    "np.zeros((3, 6))"
   ]
  },
  {
   "cell_type": "code",
   "execution_count": 15,
   "metadata": {},
   "outputs": [
    {
     "output_type": "execute_result",
     "data": {
      "text/plain": "array([[[9.21520454e-312, 3.16202013e-322],\n        [0.00000000e+000, 0.00000000e+000],\n        [1.12465777e-312, 2.05990606e+184]],\n\n       [[1.28992752e+165, 8.60679034e-067],\n        [5.93397833e-038, 1.37033386e-071],\n        [2.74854953e+180, 6.28218087e+174]]])"
     },
     "metadata": {},
     "execution_count": 15
    }
   ],
   "source": [
    "# It’s not safe to assume that np.empty will return an array of all zeros. In some cases, it may return uninitialized “garbage” values.\n",
    "np.empty((2, 3, 2))"
   ]
  },
  {
   "cell_type": "code",
   "execution_count": 16,
   "metadata": {},
   "outputs": [
    {
     "output_type": "execute_result",
     "data": {
      "text/plain": "array([0, 1, 2, 3, 4, 5, 6, 7, 8, 9])"
     },
     "metadata": {},
     "execution_count": 16
    }
   ],
   "source": [
    "# arange is an array-valued version of the built-in Python range function\n",
    "np.arange(10)"
   ]
  },
  {
   "cell_type": "code",
   "execution_count": 17,
   "metadata": {},
   "outputs": [
    {
     "output_type": "execute_result",
     "data": {
      "text/plain": "array([[7, 7, 7],\n       [7, 7, 7]])"
     },
     "metadata": {},
     "execution_count": 17
    }
   ],
   "source": [
    "np.full((2, 3), 7)"
   ]
  },
  {
   "cell_type": "markdown",
   "metadata": {},
   "source": [
    "### Data Type for ndarrays"
   ]
  },
  {
   "cell_type": "code",
   "execution_count": 18,
   "metadata": {},
   "outputs": [],
   "source": [
    "arr1 = np.array([1, 2, 3], dtype=np.float64)\n",
    "arr2 = np.array([1, 2, 3], dtype=np.int32)"
   ]
  },
  {
   "cell_type": "code",
   "execution_count": 19,
   "metadata": {
    "tags": []
   },
   "outputs": [
    {
     "output_type": "stream",
     "name": "stdout",
     "text": "float64\nint32\n"
    }
   ],
   "source": [
    "print(arr1.dtype)\n",
    "print(arr2.dtype)"
   ]
  },
  {
   "cell_type": "code",
   "execution_count": 21,
   "metadata": {},
   "outputs": [
    {
     "output_type": "execute_result",
     "data": {
      "text/plain": "array([0., 1., 2., 3., 4., 5., 6., 7., 8., 9.])"
     },
     "metadata": {},
     "execution_count": 21
    }
   ],
   "source": [
    "int_array = np.arange(10)\n",
    "calibers = np.array([.22, .270, .357, .380, .44, .50], dtype=np.float64)\n",
    "int_array.astype(calibers.dtype)"
   ]
  },
  {
   "cell_type": "markdown",
   "metadata": {},
   "source": [
    "### Arithmetic with NumPy Arrays"
   ]
  },
  {
   "cell_type": "code",
   "execution_count": 22,
   "metadata": {},
   "outputs": [
    {
     "output_type": "execute_result",
     "data": {
      "text/plain": "array([[1., 2., 3.],\n       [4., 5., 6.]])"
     },
     "metadata": {},
     "execution_count": 22
    }
   ],
   "source": [
    "arr = np.array([[1, 2, 3],[4, 5, 6]], dtype = np.float64)\n",
    "arr"
   ]
  },
  {
   "cell_type": "code",
   "execution_count": 23,
   "metadata": {},
   "outputs": [
    {
     "output_type": "execute_result",
     "data": {
      "text/plain": "array([[ 1.,  4.,  9.],\n       [16., 25., 36.]])"
     },
     "metadata": {},
     "execution_count": 23
    }
   ],
   "source": [
    "arr * arr"
   ]
  },
  {
   "cell_type": "code",
   "execution_count": 24,
   "metadata": {},
   "outputs": [
    {
     "output_type": "execute_result",
     "data": {
      "text/plain": "array([[0., 0., 0.],\n       [0., 0., 0.]])"
     },
     "metadata": {},
     "execution_count": 24
    }
   ],
   "source": [
    "arr - arr"
   ]
  },
  {
   "cell_type": "code",
   "execution_count": 25,
   "metadata": {},
   "outputs": [
    {
     "output_type": "execute_result",
     "data": {
      "text/plain": "array([[1.        , 0.5       , 0.33333333],\n       [0.25      , 0.2       , 0.16666667]])"
     },
     "metadata": {},
     "execution_count": 25
    }
   ],
   "source": [
    "1 / arr"
   ]
  },
  {
   "cell_type": "code",
   "execution_count": 26,
   "metadata": {},
   "outputs": [
    {
     "output_type": "execute_result",
     "data": {
      "text/plain": "array([[1.        , 1.41421356, 1.73205081],\n       [2.        , 2.23606798, 2.44948974]])"
     },
     "metadata": {},
     "execution_count": 26
    }
   ],
   "source": [
    "arr ** 0.5 # power"
   ]
  },
  {
   "cell_type": "code",
   "execution_count": 27,
   "metadata": {},
   "outputs": [
    {
     "output_type": "execute_result",
     "data": {
      "text/plain": "array([[ 0.,  4.,  1.],\n       [ 7.,  2., 12.]])"
     },
     "metadata": {},
     "execution_count": 27
    }
   ],
   "source": [
    "arr2 = np.array([[0, 4, 1],[7, 2, 12]], dtype = np.float64)\n",
    "arr2"
   ]
  },
  {
   "cell_type": "code",
   "execution_count": 28,
   "metadata": {},
   "outputs": [
    {
     "output_type": "execute_result",
     "data": {
      "text/plain": "array([[False,  True, False],\n       [ True, False,  True]])"
     },
     "metadata": {},
     "execution_count": 28
    }
   ],
   "source": [
    "arr2 > arr"
   ]
  },
  {
   "cell_type": "markdown",
   "metadata": {},
   "source": [
    "### Basic Indexing and Slicing"
   ]
  },
  {
   "cell_type": "code",
   "execution_count": 29,
   "metadata": {},
   "outputs": [],
   "source": [
    "arr = np.arange(10)"
   ]
  },
  {
   "cell_type": "code",
   "execution_count": 30,
   "metadata": {},
   "outputs": [
    {
     "output_type": "execute_result",
     "data": {
      "text/plain": "array([0, 1, 2, 3, 4, 5, 6, 7, 8, 9])"
     },
     "metadata": {},
     "execution_count": 30
    }
   ],
   "source": [
    "arr"
   ]
  },
  {
   "cell_type": "code",
   "execution_count": 31,
   "metadata": {},
   "outputs": [
    {
     "output_type": "execute_result",
     "data": {
      "text/plain": "5"
     },
     "metadata": {},
     "execution_count": 31
    }
   ],
   "source": [
    "arr[5]"
   ]
  },
  {
   "cell_type": "code",
   "execution_count": 32,
   "metadata": {},
   "outputs": [
    {
     "output_type": "execute_result",
     "data": {
      "text/plain": "array([5, 6, 7])"
     },
     "metadata": {},
     "execution_count": 32
    }
   ],
   "source": [
    "arr[5:8]"
   ]
  },
  {
   "cell_type": "code",
   "execution_count": 33,
   "metadata": {},
   "outputs": [],
   "source": [
    "arr[-8:-5] = -1"
   ]
  },
  {
   "cell_type": "code",
   "execution_count": 34,
   "metadata": {},
   "outputs": [
    {
     "output_type": "execute_result",
     "data": {
      "text/plain": "array([ 0,  1, -1, -1, -1,  5,  6,  7,  8,  9])"
     },
     "metadata": {},
     "execution_count": 34
    }
   ],
   "source": [
    "arr"
   ]
  },
  {
   "cell_type": "markdown",
   "metadata": {},
   "source": [
    "The slices of an ndarray is a view. So, if you change the element in the slice, the relavant element in ndarray will be changed too. To get a copy of a slice of ndarray, you have to explicity using the copy method: `arr[5:8].copy()`"
   ]
  },
  {
   "cell_type": "markdown",
   "metadata": {},
   "source": [
    "### Boolean Indexing"
   ]
  },
  {
   "cell_type": "code",
   "execution_count": 35,
   "metadata": {},
   "outputs": [],
   "source": [
    "names = np.array(['Bob', 'Joe', 'Will', 'Bob', 'Will', 'Joe', 'Joe'])\n",
    "data = np.random.randn(7, 4)"
   ]
  },
  {
   "cell_type": "code",
   "execution_count": 36,
   "metadata": {},
   "outputs": [
    {
     "output_type": "execute_result",
     "data": {
      "text/plain": "array([ True, False, False,  True, False, False, False])"
     },
     "metadata": {},
     "execution_count": 36
    }
   ],
   "source": [
    "names == 'Bob'"
   ]
  },
  {
   "cell_type": "code",
   "execution_count": 37,
   "metadata": {},
   "outputs": [
    {
     "output_type": "execute_result",
     "data": {
      "text/plain": "array([[ 0.16736251,  1.97032468, -0.74295377,  0.87626573],\n       [-0.12254901, -0.77955206,  2.07632947,  0.41826977]])"
     },
     "metadata": {},
     "execution_count": 37
    }
   ],
   "source": [
    "data[names == 'Bob']"
   ]
  },
  {
   "cell_type": "code",
   "execution_count": 38,
   "metadata": {},
   "outputs": [
    {
     "output_type": "execute_result",
     "data": {
      "text/plain": "array([[-0.74295377,  0.87626573],\n       [ 2.07632947,  0.41826977]])"
     },
     "metadata": {},
     "execution_count": 38
    }
   ],
   "source": [
    "data[names=='Bob', 2:]"
   ]
  },
  {
   "cell_type": "code",
   "execution_count": 39,
   "metadata": {},
   "outputs": [
    {
     "output_type": "execute_result",
     "data": {
      "text/plain": "array([[-0.04983109,  0.31277734,  0.41498593, -1.02499407],\n       [-1.42215977,  0.20851097, -1.8359617 ,  0.33527216],\n       [ 1.76529215,  0.89698893, -1.34903325,  1.38599664],\n       [-0.10584927, -0.06685103,  1.05216772,  0.73398884],\n       [ 0.49537799, -0.04560735,  0.68806233,  0.43855988]])"
     },
     "metadata": {},
     "execution_count": 39
    }
   ],
   "source": [
    "data[names != 'Bob']"
   ]
  },
  {
   "cell_type": "code",
   "execution_count": 40,
   "metadata": {},
   "outputs": [
    {
     "output_type": "execute_result",
     "data": {
      "text/plain": "array([[-0.04983109,  0.31277734,  0.41498593, -1.02499407],\n       [-1.42215977,  0.20851097, -1.8359617 ,  0.33527216],\n       [ 1.76529215,  0.89698893, -1.34903325,  1.38599664],\n       [-0.10584927, -0.06685103,  1.05216772,  0.73398884],\n       [ 0.49537799, -0.04560735,  0.68806233,  0.43855988]])"
     },
     "metadata": {},
     "execution_count": 40
    }
   ],
   "source": [
    "data[~(names == 'Bob')]"
   ]
  },
  {
   "cell_type": "code",
   "execution_count": 41,
   "metadata": {},
   "outputs": [
    {
     "output_type": "execute_result",
     "data": {
      "text/plain": "array([[ 0.16736251,  1.97032468, -0.74295377,  0.87626573],\n       [-1.42215977,  0.20851097, -1.8359617 ,  0.33527216],\n       [-0.12254901, -0.77955206,  2.07632947,  0.41826977],\n       [ 1.76529215,  0.89698893, -1.34903325,  1.38599664]])"
     },
     "metadata": {},
     "execution_count": 41
    }
   ],
   "source": [
    "mask = (names == 'Bob') | (names == 'Will')\n",
    "data[mask]"
   ]
  },
  {
   "cell_type": "code",
   "execution_count": 42,
   "metadata": {},
   "outputs": [],
   "source": [
    "data[data < 0] = 0"
   ]
  },
  {
   "cell_type": "code",
   "execution_count": 43,
   "metadata": {},
   "outputs": [
    {
     "output_type": "execute_result",
     "data": {
      "text/plain": "array([[0.16736251, 1.97032468, 0.        , 0.87626573],\n       [0.        , 0.31277734, 0.41498593, 0.        ],\n       [0.        , 0.20851097, 0.        , 0.33527216],\n       [0.        , 0.        , 2.07632947, 0.41826977],\n       [1.76529215, 0.89698893, 0.        , 1.38599664],\n       [0.        , 0.        , 1.05216772, 0.73398884],\n       [0.49537799, 0.        , 0.68806233, 0.43855988]])"
     },
     "metadata": {},
     "execution_count": 43
    }
   ],
   "source": [
    "data"
   ]
  },
  {
   "cell_type": "code",
   "execution_count": 44,
   "metadata": {},
   "outputs": [],
   "source": [
    "data[names != 'Joe'] = 7"
   ]
  },
  {
   "cell_type": "code",
   "execution_count": 45,
   "metadata": {},
   "outputs": [
    {
     "output_type": "execute_result",
     "data": {
      "text/plain": "array([[7.        , 7.        , 7.        , 7.        ],\n       [0.        , 0.31277734, 0.41498593, 0.        ],\n       [7.        , 7.        , 7.        , 7.        ],\n       [7.        , 7.        , 7.        , 7.        ],\n       [7.        , 7.        , 7.        , 7.        ],\n       [0.        , 0.        , 1.05216772, 0.73398884],\n       [0.49537799, 0.        , 0.68806233, 0.43855988]])"
     },
     "metadata": {},
     "execution_count": 45
    }
   ],
   "source": [
    "data"
   ]
  },
  {
   "cell_type": "markdown",
   "metadata": {},
   "source": [
    "### Fancy Indexing\n",
    "\n",
    "chosing the # of rows directly\n",
    "\n",
    "always copy the ndarray"
   ]
  },
  {
   "cell_type": "code",
   "execution_count": 46,
   "metadata": {},
   "outputs": [],
   "source": [
    "arr = np.empty((8, 4))\n",
    "for i in range(8):\n",
    "    arr[i] = i"
   ]
  },
  {
   "cell_type": "code",
   "execution_count": 48,
   "metadata": {},
   "outputs": [
    {
     "output_type": "execute_result",
     "data": {
      "text/plain": "array([[0., 0., 0., 0.],\n       [1., 1., 1., 1.],\n       [2., 2., 2., 2.],\n       [3., 3., 3., 3.],\n       [4., 4., 4., 4.],\n       [5., 5., 5., 5.],\n       [6., 6., 6., 6.],\n       [7., 7., 7., 7.]])"
     },
     "metadata": {},
     "execution_count": 48
    }
   ],
   "source": [
    "arr"
   ]
  },
  {
   "cell_type": "code",
   "execution_count": 49,
   "metadata": {},
   "outputs": [
    {
     "output_type": "execute_result",
     "data": {
      "text/plain": "array([[4., 4., 4., 4.],\n       [3., 3., 3., 3.],\n       [0., 0., 0., 0.],\n       [6., 6., 6., 6.]])"
     },
     "metadata": {},
     "execution_count": 49
    }
   ],
   "source": [
    "arr[[4, 3, 0, 6]]"
   ]
  },
  {
   "cell_type": "code",
   "execution_count": 51,
   "metadata": {},
   "outputs": [
    {
     "output_type": "execute_result",
     "data": {
      "text/plain": "array([[6., 6., 6., 6.],\n       [7., 7., 7., 7.]])"
     },
     "metadata": {},
     "execution_count": 51
    }
   ],
   "source": [
    "# the negative index will choose rows from the end\n",
    "arr[[-2, -1]]"
   ]
  },
  {
   "cell_type": "code",
   "execution_count": 53,
   "metadata": {},
   "outputs": [
    {
     "output_type": "execute_result",
     "data": {
      "text/plain": "array([[1., 1., 1., 1.],\n       [5., 5., 5., 5.],\n       [7., 7., 7., 7.],\n       [2., 2., 2., 2.]])"
     },
     "metadata": {},
     "execution_count": 53
    }
   ],
   "source": [
    "arr[[1, 5, 7, 2]][:, [0, 3, 1, 2]]\n",
    "# element at (1, 0), (5, 3), (7, 1), (2, 2)"
   ]
  },
  {
   "cell_type": "markdown",
   "metadata": {},
   "source": [
    "### Transposing Arrays and Swqpping Axes"
   ]
  },
  {
   "cell_type": "code",
   "execution_count": 55,
   "metadata": {},
   "outputs": [
    {
     "output_type": "execute_result",
     "data": {
      "text/plain": "array([[ 0,  1,  2,  3,  4],\n       [ 5,  6,  7,  8,  9],\n       [10, 11, 12, 13, 14]])"
     },
     "metadata": {},
     "execution_count": 55
    }
   ],
   "source": [
    "arr = np.arange(15).reshape((3, 5))\n",
    "arr"
   ]
  },
  {
   "cell_type": "code",
   "execution_count": 56,
   "metadata": {},
   "outputs": [
    {
     "output_type": "execute_result",
     "data": {
      "text/plain": "array([[ 0,  5, 10],\n       [ 1,  6, 11],\n       [ 2,  7, 12],\n       [ 3,  8, 13],\n       [ 4,  9, 14]])"
     },
     "metadata": {},
     "execution_count": 56
    }
   ],
   "source": [
    "arr.T"
   ]
  },
  {
   "cell_type": "code",
   "execution_count": 58,
   "metadata": {},
   "outputs": [
    {
     "output_type": "execute_result",
     "data": {
      "text/plain": "array([[ 0,  5, 10],\n       [ 1,  6, 11],\n       [ 2,  7, 12],\n       [ 3,  8, 13],\n       [ 4,  9, 14]])"
     },
     "metadata": {},
     "execution_count": 58
    }
   ],
   "source": [
    "arr.transpose((1, 0))"
   ]
  },
  {
   "cell_type": "markdown",
   "metadata": {},
   "source": [
    "## 4.2 Unicersal Functions: Fast Element-Wise Array Functions"
   ]
  },
  {
   "cell_type": "code",
   "execution_count": 59,
   "metadata": {},
   "outputs": [
    {
     "output_type": "execute_result",
     "data": {
      "text/plain": "array([0, 1, 2, 3, 4, 5, 6, 7, 8, 9])"
     },
     "metadata": {},
     "execution_count": 59
    }
   ],
   "source": [
    "arr = np.arange(10)\n",
    "arr"
   ]
  },
  {
   "cell_type": "code",
   "execution_count": 60,
   "metadata": {},
   "outputs": [
    {
     "output_type": "execute_result",
     "data": {
      "text/plain": "array([0.        , 1.        , 1.41421356, 1.73205081, 2.        ,\n       2.23606798, 2.44948974, 2.64575131, 2.82842712, 3.        ])"
     },
     "metadata": {},
     "execution_count": 60
    }
   ],
   "source": [
    "np.sqrt(arr)"
   ]
  },
  {
   "cell_type": "code",
   "execution_count": 61,
   "metadata": {},
   "outputs": [
    {
     "output_type": "execute_result",
     "data": {
      "text/plain": "array([1.00000000e+00, 2.71828183e+00, 7.38905610e+00, 2.00855369e+01,\n       5.45981500e+01, 1.48413159e+02, 4.03428793e+02, 1.09663316e+03,\n       2.98095799e+03, 8.10308393e+03])"
     },
     "metadata": {},
     "execution_count": 61
    }
   ],
   "source": [
    "np.exp(arr)"
   ]
  },
  {
   "cell_type": "code",
   "execution_count": 62,
   "metadata": {
    "tags": []
   },
   "outputs": [
    {
     "output_type": "stream",
     "name": "stdout",
     "text": "[ 0.74972708  0.04195598  0.46751345  0.41966222  0.61149509  0.3355117\n  0.02866717 -0.15884407]\n[ 1.13092724 -0.42582061 -0.41466299  0.38171464 -0.49603471  0.37843735\n  0.48997138  0.53213479]\n[1.13092724 0.04195598 0.46751345 0.41966222 0.61149509 0.37843735\n 0.48997138 0.53213479]\n"
    }
   ],
   "source": [
    "# numpy.maximum computed the element-wise maximum of the elements in x and y.\n",
    "x = np.random.randn(8)\n",
    "y = np.random.randn(8)\n",
    "print(x)\n",
    "print(y)\n",
    "print(np.maximum(x, y))"
   ]
  },
  {
   "cell_type": "code",
   "execution_count": 63,
   "metadata": {},
   "outputs": [
    {
     "output_type": "execute_result",
     "data": {
      "text/plain": "array([0.08075315, 2.01689945, 3.90272738, 1.00680219, 0.09053613,\n       4.11068502, 0.62128349])"
     },
     "metadata": {},
     "execution_count": 63
    }
   ],
   "source": [
    "arr = np.random.rand(7) * 5\n",
    "arr"
   ]
  },
  {
   "cell_type": "code",
   "execution_count": 64,
   "metadata": {},
   "outputs": [],
   "source": [
    "remainder, whole_part = np.modf(arr)"
   ]
  },
  {
   "cell_type": "code",
   "execution_count": 65,
   "metadata": {},
   "outputs": [
    {
     "output_type": "execute_result",
     "data": {
      "text/plain": "array([0.08075315, 0.01689945, 0.90272738, 0.00680219, 0.09053613,\n       0.11068502, 0.62128349])"
     },
     "metadata": {},
     "execution_count": 65
    }
   ],
   "source": [
    "remainder"
   ]
  },
  {
   "cell_type": "code",
   "execution_count": 66,
   "metadata": {},
   "outputs": [
    {
     "output_type": "execute_result",
     "data": {
      "text/plain": "array([0., 2., 3., 1., 0., 4., 0.])"
     },
     "metadata": {},
     "execution_count": 66
    }
   ],
   "source": [
    "whole_part"
   ]
  },
  {
   "cell_type": "markdown",
   "metadata": {},
   "source": [
    "## Array-Oriented Programming with Arrays"
   ]
  },
  {
   "cell_type": "code",
   "execution_count": 67,
   "metadata": {},
   "outputs": [],
   "source": [
    "points = np.arange(-5, 5, 0.01)\n",
    "xs, ys = np.meshgrid(points, points)"
   ]
  },
  {
   "cell_type": "code",
   "execution_count": 68,
   "metadata": {},
   "outputs": [
    {
     "output_type": "execute_result",
     "data": {
      "text/plain": "array([[7.07106781, 7.06400028, 7.05693985, ..., 7.04988652, 7.05693985,\n        7.06400028],\n       [7.06400028, 7.05692568, 7.04985815, ..., 7.04279774, 7.04985815,\n        7.05692568],\n       [7.05693985, 7.04985815, 7.04278354, ..., 7.03571603, 7.04278354,\n        7.04985815],\n       ...,\n       [7.04988652, 7.04279774, 7.03571603, ..., 7.0286414 , 7.03571603,\n        7.04279774],\n       [7.05693985, 7.04985815, 7.04278354, ..., 7.03571603, 7.04278354,\n        7.04985815],\n       [7.06400028, 7.05692568, 7.04985815, ..., 7.04279774, 7.04985815,\n        7.05692568]])"
     },
     "metadata": {},
     "execution_count": 68
    }
   ],
   "source": [
    "z = np.sqrt(xs ** 2 + ys ** 2)\n",
    "z"
   ]
  },
  {
   "cell_type": "code",
   "execution_count": 69,
   "metadata": {},
   "outputs": [],
   "source": [
    "import matplotlib.pyplot as plt\n"
   ]
  },
  {
   "cell_type": "code",
   "execution_count": 72,
   "metadata": {},
   "outputs": [
    {
     "output_type": "execute_result",
     "data": {
      "text/plain": "Text(0.5, 1.0, 'Image plot of $\\\\sqrt{x^2 + y^2}$ for a grid of values')"
     },
     "metadata": {},
     "execution_count": 72
    },
    {
     "output_type": "display_data",
     "data": {
      "text/plain": "<Figure size 432x288 with 2 Axes>",
      "image/svg+xml": "<?xml version=\"1.0\" encoding=\"utf-8\" standalone=\"no\"?>\r\n<!DOCTYPE svg PUBLIC \"-//W3C//DTD SVG 1.1//EN\"\r\n  \"http://www.w3.org/Graphics/SVG/1.1/DTD/svg11.dtd\">\r\n<!-- Created with matplotlib (https://matplotlib.org/) -->\r\n<svg height=\"269.878125pt\" version=\"1.1\" viewBox=\"0 0 298.902 269.878125\" width=\"298.902pt\" xmlns=\"http://www.w3.org/2000/svg\" xmlns:xlink=\"http://www.w3.org/1999/xlink\">\r\n <defs>\r\n  <style type=\"text/css\">\r\n*{stroke-linecap:butt;stroke-linejoin:round;}\r\n  </style>\r\n </defs>\r\n <g id=\"figure_1\">\r\n  <g id=\"patch_1\">\r\n   <path d=\"M 0 269.878125 \r\nL 298.902 269.878125 \r\nL 298.902 0 \r\nL 0 0 \r\nz\r\n\" style=\"fill:none;\"/>\r\n  </g>\r\n  <g id=\"axes_1\">\r\n   <g id=\"patch_2\">\r\n    <path d=\"M 33.2875 246 \r\nL 250.7275 246 \r\nL 250.7275 28.56 \r\nL 33.2875 28.56 \r\nz\r\n\" style=\"fill:#ffffff;\"/>\r\n   </g>\r\n   <g clip-path=\"url(#pe9506df5a0)\">\r\n    <image height=\"218\" id=\"image18f94387dd\" transform=\"scale(1 -1)translate(0 -218)\" width=\"218\" x=\"33.2875\" xlink:href=\"data:image/png;base64,\r\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\" y=\"-28\"/>\r\n   </g>\r\n   <g id=\"matplotlib.axis_1\">\r\n    <g id=\"xtick_1\">\r\n     <g id=\"line2d_1\">\r\n      <defs>\r\n       <path d=\"M 0 0 \r\nL 0 3.5 \r\n\" id=\"ma8cb9f5c2a\" style=\"stroke:#000000;stroke-width:0.8;\"/>\r\n      </defs>\r\n      <g>\r\n       <use style=\"stroke:#000000;stroke-width:0.8;\" x=\"33.39622\" xlink:href=\"#ma8cb9f5c2a\" y=\"246\"/>\r\n      </g>\r\n     </g>\r\n     <g id=\"text_1\">\r\n      <!-- 0 -->\r\n      <defs>\r\n       <path d=\"M 31.78125 66.40625 \r\nQ 24.171875 66.40625 20.328125 58.90625 \r\nQ 16.5 51.421875 16.5 36.375 \r\nQ 16.5 21.390625 20.328125 13.890625 \r\nQ 24.171875 6.390625 31.78125 6.390625 \r\nQ 39.453125 6.390625 43.28125 13.890625 \r\nQ 47.125 21.390625 47.125 36.375 \r\nQ 47.125 51.421875 43.28125 58.90625 \r\nQ 39.453125 66.40625 31.78125 66.40625 \r\nz\r\nM 31.78125 74.21875 \r\nQ 44.046875 74.21875 50.515625 64.515625 \r\nQ 56.984375 54.828125 56.984375 36.375 \r\nQ 56.984375 17.96875 50.515625 8.265625 \r\nQ 44.046875 -1.421875 31.78125 -1.421875 \r\nQ 19.53125 -1.421875 13.0625 8.265625 \r\nQ 6.59375 17.96875 6.59375 36.375 \r\nQ 6.59375 54.828125 13.0625 64.515625 \r\nQ 19.53125 74.21875 31.78125 74.21875 \r\nz\r\n\" id=\"DejaVuSans-48\"/>\r\n      </defs>\r\n      <g transform=\"translate(30.21497 260.598437)scale(0.1 -0.1)\">\r\n       <use xlink:href=\"#DejaVuSans-48\"/>\r\n      </g>\r\n     </g>\r\n    </g>\r\n    <g id=\"xtick_2\">\r\n     <g id=\"line2d_2\">\r\n      <g>\r\n       <use style=\"stroke:#000000;stroke-width:0.8;\" x=\"76.88422\" xlink:href=\"#ma8cb9f5c2a\" y=\"246\"/>\r\n      </g>\r\n     </g>\r\n     <g id=\"text_2\">\r\n      <!-- 200 -->\r\n      <defs>\r\n       <path d=\"M 19.1875 8.296875 \r\nL 53.609375 8.296875 \r\nL 53.609375 0 \r\nL 7.328125 0 \r\nL 7.328125 8.296875 \r\nQ 12.9375 14.109375 22.625 23.890625 \r\nQ 32.328125 33.6875 34.8125 36.53125 \r\nQ 39.546875 41.84375 41.421875 45.53125 \r\nQ 43.3125 49.21875 43.3125 52.78125 \r\nQ 43.3125 58.59375 39.234375 62.25 \r\nQ 35.15625 65.921875 28.609375 65.921875 \r\nQ 23.96875 65.921875 18.8125 64.3125 \r\nQ 13.671875 62.703125 7.8125 59.421875 \r\nL 7.8125 69.390625 \r\nQ 13.765625 71.78125 18.9375 73 \r\nQ 24.125 74.21875 28.421875 74.21875 \r\nQ 39.75 74.21875 46.484375 68.546875 \r\nQ 53.21875 62.890625 53.21875 53.421875 \r\nQ 53.21875 48.921875 51.53125 44.890625 \r\nQ 49.859375 40.875 45.40625 35.40625 \r\nQ 44.1875 33.984375 37.640625 27.21875 \r\nQ 31.109375 20.453125 19.1875 8.296875 \r\nz\r\n\" id=\"DejaVuSans-50\"/>\r\n      </defs>\r\n      <g transform=\"translate(67.34047 260.598437)scale(0.1 -0.1)\">\r\n       <use xlink:href=\"#DejaVuSans-50\"/>\r\n       <use x=\"63.623047\" xlink:href=\"#DejaVuSans-48\"/>\r\n       <use x=\"127.246094\" xlink:href=\"#DejaVuSans-48\"/>\r\n      </g>\r\n     </g>\r\n    </g>\r\n    <g id=\"xtick_3\">\r\n     <g id=\"line2d_3\">\r\n      <g>\r\n       <use style=\"stroke:#000000;stroke-width:0.8;\" x=\"120.37222\" xlink:href=\"#ma8cb9f5c2a\" y=\"246\"/>\r\n      </g>\r\n     </g>\r\n     <g id=\"text_3\">\r\n      <!-- 400 -->\r\n      <defs>\r\n       <path d=\"M 37.796875 64.3125 \r\nL 12.890625 25.390625 \r\nL 37.796875 25.390625 \r\nz\r\nM 35.203125 72.90625 \r\nL 47.609375 72.90625 \r\nL 47.609375 25.390625 \r\nL 58.015625 25.390625 \r\nL 58.015625 17.1875 \r\nL 47.609375 17.1875 \r\nL 47.609375 0 \r\nL 37.796875 0 \r\nL 37.796875 17.1875 \r\nL 4.890625 17.1875 \r\nL 4.890625 26.703125 \r\nz\r\n\" id=\"DejaVuSans-52\"/>\r\n      </defs>\r\n      <g transform=\"translate(110.82847 260.598437)scale(0.1 -0.1)\">\r\n       <use xlink:href=\"#DejaVuSans-52\"/>\r\n       <use x=\"63.623047\" xlink:href=\"#DejaVuSans-48\"/>\r\n       <use x=\"127.246094\" xlink:href=\"#DejaVuSans-48\"/>\r\n      </g>\r\n     </g>\r\n    </g>\r\n    <g id=\"xtick_4\">\r\n     <g id=\"line2d_4\">\r\n      <g>\r\n       <use style=\"stroke:#000000;stroke-width:0.8;\" x=\"163.86022\" xlink:href=\"#ma8cb9f5c2a\" y=\"246\"/>\r\n      </g>\r\n     </g>\r\n     <g id=\"text_4\">\r\n      <!-- 600 -->\r\n      <defs>\r\n       <path d=\"M 33.015625 40.375 \r\nQ 26.375 40.375 22.484375 35.828125 \r\nQ 18.609375 31.296875 18.609375 23.390625 \r\nQ 18.609375 15.53125 22.484375 10.953125 \r\nQ 26.375 6.390625 33.015625 6.390625 \r\nQ 39.65625 6.390625 43.53125 10.953125 \r\nQ 47.40625 15.53125 47.40625 23.390625 \r\nQ 47.40625 31.296875 43.53125 35.828125 \r\nQ 39.65625 40.375 33.015625 40.375 \r\nz\r\nM 52.59375 71.296875 \r\nL 52.59375 62.3125 \r\nQ 48.875 64.0625 45.09375 64.984375 \r\nQ 41.3125 65.921875 37.59375 65.921875 \r\nQ 27.828125 65.921875 22.671875 59.328125 \r\nQ 17.53125 52.734375 16.796875 39.40625 \r\nQ 19.671875 43.65625 24.015625 45.921875 \r\nQ 28.375 48.1875 33.59375 48.1875 \r\nQ 44.578125 48.1875 50.953125 41.515625 \r\nQ 57.328125 34.859375 57.328125 23.390625 \r\nQ 57.328125 12.15625 50.6875 5.359375 \r\nQ 44.046875 -1.421875 33.015625 -1.421875 \r\nQ 20.359375 -1.421875 13.671875 8.265625 \r\nQ 6.984375 17.96875 6.984375 36.375 \r\nQ 6.984375 53.65625 15.1875 63.9375 \r\nQ 23.390625 74.21875 37.203125 74.21875 \r\nQ 40.921875 74.21875 44.703125 73.484375 \r\nQ 48.484375 72.75 52.59375 71.296875 \r\nz\r\n\" id=\"DejaVuSans-54\"/>\r\n      </defs>\r\n      <g transform=\"translate(154.31647 260.598437)scale(0.1 -0.1)\">\r\n       <use xlink:href=\"#DejaVuSans-54\"/>\r\n       <use x=\"63.623047\" xlink:href=\"#DejaVuSans-48\"/>\r\n       <use x=\"127.246094\" xlink:href=\"#DejaVuSans-48\"/>\r\n      </g>\r\n     </g>\r\n    </g>\r\n    <g id=\"xtick_5\">\r\n     <g id=\"line2d_5\">\r\n      <g>\r\n       <use style=\"stroke:#000000;stroke-width:0.8;\" x=\"207.34822\" xlink:href=\"#ma8cb9f5c2a\" y=\"246\"/>\r\n      </g>\r\n     </g>\r\n     <g id=\"text_5\">\r\n      <!-- 800 -->\r\n      <defs>\r\n       <path d=\"M 31.78125 34.625 \r\nQ 24.75 34.625 20.71875 30.859375 \r\nQ 16.703125 27.09375 16.703125 20.515625 \r\nQ 16.703125 13.921875 20.71875 10.15625 \r\nQ 24.75 6.390625 31.78125 6.390625 \r\nQ 38.8125 6.390625 42.859375 10.171875 \r\nQ 46.921875 13.96875 46.921875 20.515625 \r\nQ 46.921875 27.09375 42.890625 30.859375 \r\nQ 38.875 34.625 31.78125 34.625 \r\nz\r\nM 21.921875 38.8125 \r\nQ 15.578125 40.375 12.03125 44.71875 \r\nQ 8.5 49.078125 8.5 55.328125 \r\nQ 8.5 64.0625 14.71875 69.140625 \r\nQ 20.953125 74.21875 31.78125 74.21875 \r\nQ 42.671875 74.21875 48.875 69.140625 \r\nQ 55.078125 64.0625 55.078125 55.328125 \r\nQ 55.078125 49.078125 51.53125 44.71875 \r\nQ 48 40.375 41.703125 38.8125 \r\nQ 48.828125 37.15625 52.796875 32.3125 \r\nQ 56.78125 27.484375 56.78125 20.515625 \r\nQ 56.78125 9.90625 50.3125 4.234375 \r\nQ 43.84375 -1.421875 31.78125 -1.421875 \r\nQ 19.734375 -1.421875 13.25 4.234375 \r\nQ 6.78125 9.90625 6.78125 20.515625 \r\nQ 6.78125 27.484375 10.78125 32.3125 \r\nQ 14.796875 37.15625 21.921875 38.8125 \r\nz\r\nM 18.3125 54.390625 \r\nQ 18.3125 48.734375 21.84375 45.5625 \r\nQ 25.390625 42.390625 31.78125 42.390625 \r\nQ 38.140625 42.390625 41.71875 45.5625 \r\nQ 45.3125 48.734375 45.3125 54.390625 \r\nQ 45.3125 60.0625 41.71875 63.234375 \r\nQ 38.140625 66.40625 31.78125 66.40625 \r\nQ 25.390625 66.40625 21.84375 63.234375 \r\nQ 18.3125 60.0625 18.3125 54.390625 \r\nz\r\n\" id=\"DejaVuSans-56\"/>\r\n      </defs>\r\n      <g transform=\"translate(197.80447 260.598437)scale(0.1 -0.1)\">\r\n       <use xlink:href=\"#DejaVuSans-56\"/>\r\n       <use x=\"63.623047\" xlink:href=\"#DejaVuSans-48\"/>\r\n       <use x=\"127.246094\" xlink:href=\"#DejaVuSans-48\"/>\r\n      </g>\r\n     </g>\r\n    </g>\r\n   </g>\r\n   <g id=\"matplotlib.axis_2\">\r\n    <g id=\"ytick_1\">\r\n     <g id=\"line2d_6\">\r\n      <defs>\r\n       <path d=\"M 0 0 \r\nL -3.5 0 \r\n\" id=\"m91401ecce5\" style=\"stroke:#000000;stroke-width:0.8;\"/>\r\n      </defs>\r\n      <g>\r\n       <use style=\"stroke:#000000;stroke-width:0.8;\" x=\"33.2875\" xlink:href=\"#m91401ecce5\" y=\"28.66872\"/>\r\n      </g>\r\n     </g>\r\n     <g id=\"text_6\">\r\n      <!-- 0 -->\r\n      <g transform=\"translate(19.925 32.467939)scale(0.1 -0.1)\">\r\n       <use xlink:href=\"#DejaVuSans-48\"/>\r\n      </g>\r\n     </g>\r\n    </g>\r\n    <g id=\"ytick_2\">\r\n     <g id=\"line2d_7\">\r\n      <g>\r\n       <use style=\"stroke:#000000;stroke-width:0.8;\" x=\"33.2875\" xlink:href=\"#m91401ecce5\" y=\"72.15672\"/>\r\n      </g>\r\n     </g>\r\n     <g id=\"text_7\">\r\n      <!-- 200 -->\r\n      <g transform=\"translate(7.2 75.955939)scale(0.1 -0.1)\">\r\n       <use xlink:href=\"#DejaVuSans-50\"/>\r\n       <use x=\"63.623047\" xlink:href=\"#DejaVuSans-48\"/>\r\n       <use x=\"127.246094\" xlink:href=\"#DejaVuSans-48\"/>\r\n      </g>\r\n     </g>\r\n    </g>\r\n    <g id=\"ytick_3\">\r\n     <g id=\"line2d_8\">\r\n      <g>\r\n       <use style=\"stroke:#000000;stroke-width:0.8;\" x=\"33.2875\" xlink:href=\"#m91401ecce5\" y=\"115.64472\"/>\r\n      </g>\r\n     </g>\r\n     <g id=\"text_8\">\r\n      <!-- 400 -->\r\n      <g transform=\"translate(7.2 119.443939)scale(0.1 -0.1)\">\r\n       <use xlink:href=\"#DejaVuSans-52\"/>\r\n       <use x=\"63.623047\" xlink:href=\"#DejaVuSans-48\"/>\r\n       <use x=\"127.246094\" xlink:href=\"#DejaVuSans-48\"/>\r\n      </g>\r\n     </g>\r\n    </g>\r\n    <g id=\"ytick_4\">\r\n     <g id=\"line2d_9\">\r\n      <g>\r\n       <use style=\"stroke:#000000;stroke-width:0.8;\" x=\"33.2875\" xlink:href=\"#m91401ecce5\" y=\"159.13272\"/>\r\n      </g>\r\n     </g>\r\n     <g id=\"text_9\">\r\n      <!-- 600 -->\r\n      <g transform=\"translate(7.2 162.931939)scale(0.1 -0.1)\">\r\n       <use xlink:href=\"#DejaVuSans-54\"/>\r\n       <use x=\"63.623047\" xlink:href=\"#DejaVuSans-48\"/>\r\n       <use x=\"127.246094\" xlink:href=\"#DejaVuSans-48\"/>\r\n      </g>\r\n     </g>\r\n    </g>\r\n    <g id=\"ytick_5\">\r\n     <g id=\"line2d_10\">\r\n      <g>\r\n       <use style=\"stroke:#000000;stroke-width:0.8;\" x=\"33.2875\" xlink:href=\"#m91401ecce5\" y=\"202.62072\"/>\r\n      </g>\r\n     </g>\r\n     <g id=\"text_10\">\r\n      <!-- 800 -->\r\n      <g transform=\"translate(7.2 206.419939)scale(0.1 -0.1)\">\r\n       <use xlink:href=\"#DejaVuSans-56\"/>\r\n       <use x=\"63.623047\" xlink:href=\"#DejaVuSans-48\"/>\r\n       <use x=\"127.246094\" xlink:href=\"#DejaVuSans-48\"/>\r\n      </g>\r\n     </g>\r\n    </g>\r\n   </g>\r\n   <g id=\"patch_3\">\r\n    <path d=\"M 33.2875 246 \r\nL 33.2875 28.56 \r\n\" style=\"fill:none;stroke:#000000;stroke-linecap:square;stroke-linejoin:miter;stroke-width:0.8;\"/>\r\n   </g>\r\n   <g id=\"patch_4\">\r\n    <path d=\"M 250.7275 246 \r\nL 250.7275 28.56 \r\n\" style=\"fill:none;stroke:#000000;stroke-linecap:square;stroke-linejoin:miter;stroke-width:0.8;\"/>\r\n   </g>\r\n   <g id=\"patch_5\">\r\n    <path d=\"M 33.2875 246 \r\nL 250.7275 246 \r\n\" style=\"fill:none;stroke:#000000;stroke-linecap:square;stroke-linejoin:miter;stroke-width:0.8;\"/>\r\n   </g>\r\n   <g id=\"patch_6\">\r\n    <path d=\"M 33.2875 28.56 \r\nL 250.7275 28.56 \r\n\" style=\"fill:none;stroke:#000000;stroke-linecap:square;stroke-linejoin:miter;stroke-width:0.8;\"/>\r\n   </g>\r\n   <g id=\"text_11\">\r\n    <!-- Image plot of $\\sqrt{x^2 + y^2}$ for a grid of values -->\r\n    <defs>\r\n     <path d=\"M 9.8125 72.90625 \r\nL 19.671875 72.90625 \r\nL 19.671875 0 \r\nL 9.8125 0 \r\nz\r\n\" id=\"DejaVuSans-73\"/>\r\n     <path d=\"M 52 44.1875 \r\nQ 55.375 50.25 60.0625 53.125 \r\nQ 64.75 56 71.09375 56 \r\nQ 79.640625 56 84.28125 50.015625 \r\nQ 88.921875 44.046875 88.921875 33.015625 \r\nL 88.921875 0 \r\nL 79.890625 0 \r\nL 79.890625 32.71875 \r\nQ 79.890625 40.578125 77.09375 44.375 \r\nQ 74.3125 48.1875 68.609375 48.1875 \r\nQ 61.625 48.1875 57.5625 43.546875 \r\nQ 53.515625 38.921875 53.515625 30.90625 \r\nL 53.515625 0 \r\nL 44.484375 0 \r\nL 44.484375 32.71875 \r\nQ 44.484375 40.625 41.703125 44.40625 \r\nQ 38.921875 48.1875 33.109375 48.1875 \r\nQ 26.21875 48.1875 22.15625 43.53125 \r\nQ 18.109375 38.875 18.109375 30.90625 \r\nL 18.109375 0 \r\nL 9.078125 0 \r\nL 9.078125 54.6875 \r\nL 18.109375 54.6875 \r\nL 18.109375 46.1875 \r\nQ 21.1875 51.21875 25.484375 53.609375 \r\nQ 29.78125 56 35.6875 56 \r\nQ 41.65625 56 45.828125 52.96875 \r\nQ 50 49.953125 52 44.1875 \r\nz\r\n\" id=\"DejaVuSans-109\"/>\r\n     <path d=\"M 34.28125 27.484375 \r\nQ 23.390625 27.484375 19.1875 25 \r\nQ 14.984375 22.515625 14.984375 16.5 \r\nQ 14.984375 11.71875 18.140625 8.90625 \r\nQ 21.296875 6.109375 26.703125 6.109375 \r\nQ 34.1875 6.109375 38.703125 11.40625 \r\nQ 43.21875 16.703125 43.21875 25.484375 \r\nL 43.21875 27.484375 \r\nz\r\nM 52.203125 31.203125 \r\nL 52.203125 0 \r\nL 43.21875 0 \r\nL 43.21875 8.296875 \r\nQ 40.140625 3.328125 35.546875 0.953125 \r\nQ 30.953125 -1.421875 24.3125 -1.421875 \r\nQ 15.921875 -1.421875 10.953125 3.296875 \r\nQ 6 8.015625 6 15.921875 \r\nQ 6 25.140625 12.171875 29.828125 \r\nQ 18.359375 34.515625 30.609375 34.515625 \r\nL 43.21875 34.515625 \r\nL 43.21875 35.40625 \r\nQ 43.21875 41.609375 39.140625 45 \r\nQ 35.0625 48.390625 27.6875 48.390625 \r\nQ 23 48.390625 18.546875 47.265625 \r\nQ 14.109375 46.140625 10.015625 43.890625 \r\nL 10.015625 52.203125 \r\nQ 14.9375 54.109375 19.578125 55.046875 \r\nQ 24.21875 56 28.609375 56 \r\nQ 40.484375 56 46.34375 49.84375 \r\nQ 52.203125 43.703125 52.203125 31.203125 \r\nz\r\n\" id=\"DejaVuSans-97\"/>\r\n     <path d=\"M 45.40625 27.984375 \r\nQ 45.40625 37.75 41.375 43.109375 \r\nQ 37.359375 48.484375 30.078125 48.484375 \r\nQ 22.859375 48.484375 18.828125 43.109375 \r\nQ 14.796875 37.75 14.796875 27.984375 \r\nQ 14.796875 18.265625 18.828125 12.890625 \r\nQ 22.859375 7.515625 30.078125 7.515625 \r\nQ 37.359375 7.515625 41.375 12.890625 \r\nQ 45.40625 18.265625 45.40625 27.984375 \r\nz\r\nM 54.390625 6.78125 \r\nQ 54.390625 -7.171875 48.1875 -13.984375 \r\nQ 42 -20.796875 29.203125 -20.796875 \r\nQ 24.46875 -20.796875 20.265625 -20.09375 \r\nQ 16.0625 -19.390625 12.109375 -17.921875 \r\nL 12.109375 -9.1875 \r\nQ 16.0625 -11.328125 19.921875 -12.34375 \r\nQ 23.78125 -13.375 27.78125 -13.375 \r\nQ 36.625 -13.375 41.015625 -8.765625 \r\nQ 45.40625 -4.15625 45.40625 5.171875 \r\nL 45.40625 9.625 \r\nQ 42.625 4.78125 38.28125 2.390625 \r\nQ 33.9375 0 27.875 0 \r\nQ 17.828125 0 11.671875 7.65625 \r\nQ 5.515625 15.328125 5.515625 27.984375 \r\nQ 5.515625 40.671875 11.671875 48.328125 \r\nQ 17.828125 56 27.875 56 \r\nQ 33.9375 56 38.28125 53.609375 \r\nQ 42.625 51.21875 45.40625 46.390625 \r\nL 45.40625 54.6875 \r\nL 54.390625 54.6875 \r\nz\r\n\" id=\"DejaVuSans-103\"/>\r\n     <path d=\"M 56.203125 29.59375 \r\nL 56.203125 25.203125 \r\nL 14.890625 25.203125 \r\nQ 15.484375 15.921875 20.484375 11.0625 \r\nQ 25.484375 6.203125 34.421875 6.203125 \r\nQ 39.59375 6.203125 44.453125 7.46875 \r\nQ 49.3125 8.734375 54.109375 11.28125 \r\nL 54.109375 2.78125 \r\nQ 49.265625 0.734375 44.1875 -0.34375 \r\nQ 39.109375 -1.421875 33.890625 -1.421875 \r\nQ 20.796875 -1.421875 13.15625 6.1875 \r\nQ 5.515625 13.8125 5.515625 26.8125 \r\nQ 5.515625 40.234375 12.765625 48.109375 \r\nQ 20.015625 56 32.328125 56 \r\nQ 43.359375 56 49.78125 48.890625 \r\nQ 56.203125 41.796875 56.203125 29.59375 \r\nz\r\nM 47.21875 32.234375 \r\nQ 47.125 39.59375 43.09375 43.984375 \r\nQ 39.0625 48.390625 32.421875 48.390625 \r\nQ 24.90625 48.390625 20.390625 44.140625 \r\nQ 15.875 39.890625 15.1875 32.171875 \r\nz\r\n\" id=\"DejaVuSans-101\"/>\r\n     <path id=\"DejaVuSans-32\"/>\r\n     <path d=\"M 18.109375 8.203125 \r\nL 18.109375 -20.796875 \r\nL 9.078125 -20.796875 \r\nL 9.078125 54.6875 \r\nL 18.109375 54.6875 \r\nL 18.109375 46.390625 \r\nQ 20.953125 51.265625 25.265625 53.625 \r\nQ 29.59375 56 35.59375 56 \r\nQ 45.5625 56 51.78125 48.09375 \r\nQ 58.015625 40.1875 58.015625 27.296875 \r\nQ 58.015625 14.40625 51.78125 6.484375 \r\nQ 45.5625 -1.421875 35.59375 -1.421875 \r\nQ 29.59375 -1.421875 25.265625 0.953125 \r\nQ 20.953125 3.328125 18.109375 8.203125 \r\nz\r\nM 48.6875 27.296875 \r\nQ 48.6875 37.203125 44.609375 42.84375 \r\nQ 40.53125 48.484375 33.40625 48.484375 \r\nQ 26.265625 48.484375 22.1875 42.84375 \r\nQ 18.109375 37.203125 18.109375 27.296875 \r\nQ 18.109375 17.390625 22.1875 11.75 \r\nQ 26.265625 6.109375 33.40625 6.109375 \r\nQ 40.53125 6.109375 44.609375 11.75 \r\nQ 48.6875 17.390625 48.6875 27.296875 \r\nz\r\n\" id=\"DejaVuSans-112\"/>\r\n     <path d=\"M 9.421875 75.984375 \r\nL 18.40625 75.984375 \r\nL 18.40625 0 \r\nL 9.421875 0 \r\nz\r\n\" id=\"DejaVuSans-108\"/>\r\n     <path d=\"M 30.609375 48.390625 \r\nQ 23.390625 48.390625 19.1875 42.75 \r\nQ 14.984375 37.109375 14.984375 27.296875 \r\nQ 14.984375 17.484375 19.15625 11.84375 \r\nQ 23.34375 6.203125 30.609375 6.203125 \r\nQ 37.796875 6.203125 41.984375 11.859375 \r\nQ 46.1875 17.53125 46.1875 27.296875 \r\nQ 46.1875 37.015625 41.984375 42.703125 \r\nQ 37.796875 48.390625 30.609375 48.390625 \r\nz\r\nM 30.609375 56 \r\nQ 42.328125 56 49.015625 48.375 \r\nQ 55.71875 40.765625 55.71875 27.296875 \r\nQ 55.71875 13.875 49.015625 6.21875 \r\nQ 42.328125 -1.421875 30.609375 -1.421875 \r\nQ 18.84375 -1.421875 12.171875 6.21875 \r\nQ 5.515625 13.875 5.515625 27.296875 \r\nQ 5.515625 40.765625 12.171875 48.375 \r\nQ 18.84375 56 30.609375 56 \r\nz\r\n\" id=\"DejaVuSans-111\"/>\r\n     <path d=\"M 18.3125 70.21875 \r\nL 18.3125 54.6875 \r\nL 36.8125 54.6875 \r\nL 36.8125 47.703125 \r\nL 18.3125 47.703125 \r\nL 18.3125 18.015625 \r\nQ 18.3125 11.328125 20.140625 9.421875 \r\nQ 21.96875 7.515625 27.59375 7.515625 \r\nL 36.8125 7.515625 \r\nL 36.8125 0 \r\nL 27.59375 0 \r\nQ 17.1875 0 13.234375 3.875 \r\nQ 9.28125 7.765625 9.28125 18.015625 \r\nL 9.28125 47.703125 \r\nL 2.6875 47.703125 \r\nL 2.6875 54.6875 \r\nL 9.28125 54.6875 \r\nL 9.28125 70.21875 \r\nz\r\n\" id=\"DejaVuSans-116\"/>\r\n     <path d=\"M 37.109375 75.984375 \r\nL 37.109375 68.5 \r\nL 28.515625 68.5 \r\nQ 23.6875 68.5 21.796875 66.546875 \r\nQ 19.921875 64.59375 19.921875 59.515625 \r\nL 19.921875 54.6875 \r\nL 34.71875 54.6875 \r\nL 34.71875 47.703125 \r\nL 19.921875 47.703125 \r\nL 19.921875 0 \r\nL 10.890625 0 \r\nL 10.890625 47.703125 \r\nL 2.296875 47.703125 \r\nL 2.296875 54.6875 \r\nL 10.890625 54.6875 \r\nL 10.890625 58.5 \r\nQ 10.890625 67.625 15.140625 71.796875 \r\nQ 19.390625 75.984375 28.609375 75.984375 \r\nz\r\n\" id=\"DejaVuSans-102\"/>\r\n     <path d=\"M 108.90625 155.203125 \r\nL 52.703125 -29.5 \r\nL 48.5 -29.5 \r\nL 25.40625 45.59375 \r\nQ 24.296875 49.203125 22.890625 50.796875 \r\nQ 21.5 52.40625 19.203125 52.40625 \r\nQ 15.796875 52.40625 12.40625 49.703125 \r\nL 11.203125 51.703125 \r\nL 27.59375 64.296875 \r\nL 30.09375 64.296875 \r\nL 52.796875 -9.40625 \r\nL 53.203125 -9.40625 \r\nL 103.203125 155.203125 \r\nz\r\n\" id=\"STIXSizeOneSym-Regular-8730\"/>\r\n     <path d=\"M 60.015625 54.6875 \r\nL 34.90625 27.875 \r\nL 50.296875 0 \r\nL 39.984375 0 \r\nL 28.421875 21.6875 \r\nL 8.296875 0 \r\nL -2.59375 0 \r\nL 24.3125 28.8125 \r\nL 10.015625 54.6875 \r\nL 20.3125 54.6875 \r\nL 30.8125 34.90625 \r\nL 49.125 54.6875 \r\nz\r\n\" id=\"DejaVuSans-Oblique-120\"/>\r\n     <path d=\"M 46 62.703125 \r\nL 46 35.5 \r\nL 73.1875 35.5 \r\nL 73.1875 27.203125 \r\nL 46 27.203125 \r\nL 46 0 \r\nL 37.796875 0 \r\nL 37.796875 27.203125 \r\nL 10.59375 27.203125 \r\nL 10.59375 35.5 \r\nL 37.796875 35.5 \r\nL 37.796875 62.703125 \r\nz\r\n\" id=\"DejaVuSans-43\"/>\r\n     <path d=\"M 24.8125 -5.078125 \r\nQ 18.5625 -15.578125 14.625 -18.1875 \r\nQ 10.6875 -20.796875 4.59375 -20.796875 \r\nL -2.484375 -20.796875 \r\nL -0.984375 -13.28125 \r\nL 4.203125 -13.28125 \r\nQ 7.953125 -13.28125 10.59375 -11.234375 \r\nQ 13.234375 -9.1875 16.5 -3.21875 \r\nL 19.28125 2 \r\nL 7.171875 54.6875 \r\nL 16.703125 54.6875 \r\nL 25.78125 12.796875 \r\nL 50.875 54.6875 \r\nL 60.296875 54.6875 \r\nz\r\n\" id=\"DejaVuSans-Oblique-121\"/>\r\n     <path d=\"M 41.109375 46.296875 \r\nQ 39.59375 47.171875 37.8125 47.578125 \r\nQ 36.03125 48 33.890625 48 \r\nQ 26.265625 48 22.1875 43.046875 \r\nQ 18.109375 38.09375 18.109375 28.8125 \r\nL 18.109375 0 \r\nL 9.078125 0 \r\nL 9.078125 54.6875 \r\nL 18.109375 54.6875 \r\nL 18.109375 46.1875 \r\nQ 20.953125 51.171875 25.484375 53.578125 \r\nQ 30.03125 56 36.53125 56 \r\nQ 37.453125 56 38.578125 55.875 \r\nQ 39.703125 55.765625 41.0625 55.515625 \r\nz\r\n\" id=\"DejaVuSans-114\"/>\r\n     <path d=\"M 9.421875 54.6875 \r\nL 18.40625 54.6875 \r\nL 18.40625 0 \r\nL 9.421875 0 \r\nz\r\nM 9.421875 75.984375 \r\nL 18.40625 75.984375 \r\nL 18.40625 64.59375 \r\nL 9.421875 64.59375 \r\nz\r\n\" id=\"DejaVuSans-105\"/>\r\n     <path d=\"M 45.40625 46.390625 \r\nL 45.40625 75.984375 \r\nL 54.390625 75.984375 \r\nL 54.390625 0 \r\nL 45.40625 0 \r\nL 45.40625 8.203125 \r\nQ 42.578125 3.328125 38.25 0.953125 \r\nQ 33.9375 -1.421875 27.875 -1.421875 \r\nQ 17.96875 -1.421875 11.734375 6.484375 \r\nQ 5.515625 14.40625 5.515625 27.296875 \r\nQ 5.515625 40.1875 11.734375 48.09375 \r\nQ 17.96875 56 27.875 56 \r\nQ 33.9375 56 38.25 53.625 \r\nQ 42.578125 51.265625 45.40625 46.390625 \r\nz\r\nM 14.796875 27.296875 \r\nQ 14.796875 17.390625 18.875 11.75 \r\nQ 22.953125 6.109375 30.078125 6.109375 \r\nQ 37.203125 6.109375 41.296875 11.75 \r\nQ 45.40625 17.390625 45.40625 27.296875 \r\nQ 45.40625 37.203125 41.296875 42.84375 \r\nQ 37.203125 48.484375 30.078125 48.484375 \r\nQ 22.953125 48.484375 18.875 42.84375 \r\nQ 14.796875 37.203125 14.796875 27.296875 \r\nz\r\n\" id=\"DejaVuSans-100\"/>\r\n     <path d=\"M 2.984375 54.6875 \r\nL 12.5 54.6875 \r\nL 29.59375 8.796875 \r\nL 46.6875 54.6875 \r\nL 56.203125 54.6875 \r\nL 35.6875 0 \r\nL 23.484375 0 \r\nz\r\n\" id=\"DejaVuSans-118\"/>\r\n     <path d=\"M 8.5 21.578125 \r\nL 8.5 54.6875 \r\nL 17.484375 54.6875 \r\nL 17.484375 21.921875 \r\nQ 17.484375 14.15625 20.5 10.265625 \r\nQ 23.53125 6.390625 29.59375 6.390625 \r\nQ 36.859375 6.390625 41.078125 11.03125 \r\nQ 45.3125 15.671875 45.3125 23.6875 \r\nL 45.3125 54.6875 \r\nL 54.296875 54.6875 \r\nL 54.296875 0 \r\nL 45.3125 0 \r\nL 45.3125 8.40625 \r\nQ 42.046875 3.421875 37.71875 1 \r\nQ 33.40625 -1.421875 27.6875 -1.421875 \r\nQ 18.265625 -1.421875 13.375 4.4375 \r\nQ 8.5 10.296875 8.5 21.578125 \r\nz\r\nM 31.109375 56 \r\nz\r\n\" id=\"DejaVuSans-117\"/>\r\n     <path d=\"M 44.28125 53.078125 \r\nL 44.28125 44.578125 \r\nQ 40.484375 46.53125 36.375 47.5 \r\nQ 32.28125 48.484375 27.875 48.484375 \r\nQ 21.1875 48.484375 17.84375 46.4375 \r\nQ 14.5 44.390625 14.5 40.28125 \r\nQ 14.5 37.15625 16.890625 35.375 \r\nQ 19.28125 33.59375 26.515625 31.984375 \r\nL 29.59375 31.296875 \r\nQ 39.15625 29.25 43.1875 25.515625 \r\nQ 47.21875 21.78125 47.21875 15.09375 \r\nQ 47.21875 7.46875 41.1875 3.015625 \r\nQ 35.15625 -1.421875 24.609375 -1.421875 \r\nQ 20.21875 -1.421875 15.453125 -0.5625 \r\nQ 10.6875 0.296875 5.421875 2 \r\nL 5.421875 11.28125 \r\nQ 10.40625 8.6875 15.234375 7.390625 \r\nQ 20.0625 6.109375 24.8125 6.109375 \r\nQ 31.15625 6.109375 34.5625 8.28125 \r\nQ 37.984375 10.453125 37.984375 14.40625 \r\nQ 37.984375 18.0625 35.515625 20.015625 \r\nQ 33.0625 21.96875 24.703125 23.78125 \r\nL 21.578125 24.515625 \r\nQ 13.234375 26.265625 9.515625 29.90625 \r\nQ 5.8125 33.546875 5.8125 39.890625 \r\nQ 5.8125 47.609375 11.28125 51.796875 \r\nQ 16.75 56 26.8125 56 \r\nQ 31.78125 56 36.171875 55.265625 \r\nQ 40.578125 54.546875 44.28125 53.078125 \r\nz\r\n\" id=\"DejaVuSans-115\"/>\r\n    </defs>\r\n    <g transform=\"translate(14.6275 22.56)scale(0.12 -0.12)\">\r\n     <use transform=\"translate(0 0.53125)\" xlink:href=\"#DejaVuSans-73\"/>\r\n     <use transform=\"translate(29.445312 0.53125)\" xlink:href=\"#DejaVuSans-109\"/>\r\n     <use transform=\"translate(126.857422 0.53125)\" xlink:href=\"#DejaVuSans-97\"/>\r\n     <use transform=\"translate(188.136719 0.53125)\" xlink:href=\"#DejaVuSans-103\"/>\r\n     <use transform=\"translate(251.613281 0.53125)\" xlink:href=\"#DejaVuSans-101\"/>\r\n     <use transform=\"translate(313.136719 0.53125)\" xlink:href=\"#DejaVuSans-32\"/>\r\n     <use transform=\"translate(344.923828 0.53125)\" xlink:href=\"#DejaVuSans-112\"/>\r\n     <use transform=\"translate(408.400391 0.53125)\" xlink:href=\"#DejaVuSans-108\"/>\r\n     <use transform=\"translate(436.183594 0.53125)\" xlink:href=\"#DejaVuSans-111\"/>\r\n     <use transform=\"translate(497.365234 0.53125)\" xlink:href=\"#DejaVuSans-116\"/>\r\n     <use transform=\"translate(536.574219 0.53125)\" xlink:href=\"#DejaVuSans-32\"/>\r\n     <use transform=\"translate(568.361328 0.53125)\" xlink:href=\"#DejaVuSans-111\"/>\r\n     <use transform=\"translate(629.542969 0.53125)\" xlink:href=\"#DejaVuSans-102\"/>\r\n     <use transform=\"translate(664.748047 0.53125)\" xlink:href=\"#DejaVuSans-32\"/>\r\n     <use transform=\"translate(696.535156 2.453125)scale(0.770324)\" xlink:href=\"#STIXSizeOneSym-Regular-8730\"/>\r\n     <use transform=\"translate(790.457184 0.515625)\" xlink:href=\"#DejaVuSans-Oblique-120\"/>\r\n     <use transform=\"translate(854.103017 38.796875)scale(0.7)\" xlink:href=\"#DejaVuSans-50\"/>\r\n     <use transform=\"translate(920.855947 0.515625)\" xlink:href=\"#DejaVuSans-43\"/>\r\n     <use transform=\"translate(1024.127431 0.515625)\" xlink:href=\"#DejaVuSans-Oblique-121\"/>\r\n     <use transform=\"translate(1087.773265 38.796875)scale(0.7)\" xlink:href=\"#DejaVuSans-50\"/>\r\n     <use transform=\"translate(1147.543772 0.53125)\" xlink:href=\"#DejaVuSans-32\"/>\r\n     <use transform=\"translate(1179.330882 0.53125)\" xlink:href=\"#DejaVuSans-102\"/>\r\n     <use transform=\"translate(1214.53596 0.53125)\" xlink:href=\"#DejaVuSans-111\"/>\r\n     <use transform=\"translate(1275.717601 0.53125)\" xlink:href=\"#DejaVuSans-114\"/>\r\n     <use transform=\"translate(1316.830882 0.53125)\" xlink:href=\"#DejaVuSans-32\"/>\r\n     <use transform=\"translate(1348.617991 0.53125)\" xlink:href=\"#DejaVuSans-97\"/>\r\n     <use transform=\"translate(1409.897288 0.53125)\" xlink:href=\"#DejaVuSans-32\"/>\r\n     <use transform=\"translate(1441.684397 0.53125)\" xlink:href=\"#DejaVuSans-103\"/>\r\n     <use transform=\"translate(1505.16096 0.53125)\" xlink:href=\"#DejaVuSans-114\"/>\r\n     <use transform=\"translate(1546.274241 0.53125)\" xlink:href=\"#DejaVuSans-105\"/>\r\n     <use transform=\"translate(1574.057444 0.53125)\" xlink:href=\"#DejaVuSans-100\"/>\r\n     <use transform=\"translate(1637.534007 0.53125)\" xlink:href=\"#DejaVuSans-32\"/>\r\n     <use transform=\"translate(1669.321116 0.53125)\" xlink:href=\"#DejaVuSans-111\"/>\r\n     <use transform=\"translate(1730.502757 0.53125)\" xlink:href=\"#DejaVuSans-102\"/>\r\n     <use transform=\"translate(1765.707835 0.53125)\" xlink:href=\"#DejaVuSans-32\"/>\r\n     <use transform=\"translate(1797.494944 0.53125)\" xlink:href=\"#DejaVuSans-118\"/>\r\n     <use transform=\"translate(1856.674632 0.53125)\" xlink:href=\"#DejaVuSans-97\"/>\r\n     <use transform=\"translate(1917.953929 0.53125)\" xlink:href=\"#DejaVuSans-108\"/>\r\n     <use transform=\"translate(1945.737132 0.53125)\" xlink:href=\"#DejaVuSans-117\"/>\r\n     <use transform=\"translate(2009.116038 0.53125)\" xlink:href=\"#DejaVuSans-101\"/>\r\n     <use transform=\"translate(2070.639476 0.53125)\" xlink:href=\"#DejaVuSans-115\"/>\r\n     <path d=\"M 777.957184 115.5 \r\nL 777.957184 121.75 \r\nL 1147.543772 121.75 \r\nL 1147.543772 115.5 \r\nL 777.957184 115.5 \r\nz\r\n\"/>\r\n    </g>\r\n   </g>\r\n  </g>\r\n  <g id=\"axes_2\">\r\n   <g id=\"patch_7\">\r\n    <path clip-path=\"url(#pa7d557351e)\" d=\"M 267.4675 246 \r\nL 267.4675 245.150625 \r\nL 267.4675 29.409375 \r\nL 267.4675 28.56 \r\nL 278.3395 28.56 \r\nL 278.3395 29.409375 \r\nL 278.3395 245.150625 \r\nL 278.3395 246 \r\nz\r\n\" style=\"fill:#ffffff;stroke:#ffffff;stroke-linejoin:miter;stroke-width:0.01;\"/>\r\n   </g>\r\n   <image height=\"217\" id=\"image7e94f09b5e\" transform=\"scale(1 -1)translate(0 -217)\" width=\"11\" x=\"267\" xlink:href=\"data:image/png;base64,\r\niVBORw0KGgoAAAANSUhEUgAAAAsAAADZCAYAAAD2WsoCAAAABHNCSVQICAgIfAhkiAAAAIJJREFUaIHt0DEKwDAQA8HI+P9fTtorjSBglr16i9Mkyfsc3k5y2v4Zr7VueOOSWI0Z4zXwA9WoY7wGfqAaM8YPVKOO8Rr4gWrUMV4DP1CNOsZr4AeqMWP8QDXqGK+BH6hGHeM18APVqGO8Bn6gGnWM18APVGPG+IFq1DFeAz+QrvEB3UYHXpyDMvMAAAAASUVORK5CYII=\" y=\"-28\"/>\r\n   <g id=\"matplotlib.axis_3\"/>\r\n   <g id=\"matplotlib.axis_4\">\r\n    <g id=\"ytick_6\">\r\n     <g id=\"line2d_11\">\r\n      <defs>\r\n       <path d=\"M 0 0 \r\nL 3.5 0 \r\n\" id=\"m59b50fe561\" style=\"stroke:#000000;stroke-width:0.8;\"/>\r\n      </defs>\r\n      <g>\r\n       <use style=\"stroke:#000000;stroke-width:0.8;\" x=\"278.3395\" xlink:href=\"#m59b50fe561\" y=\"246\"/>\r\n      </g>\r\n     </g>\r\n     <g id=\"text_12\">\r\n      <!-- 0 -->\r\n      <g transform=\"translate(285.3395 249.799219)scale(0.1 -0.1)\">\r\n       <use xlink:href=\"#DejaVuSans-48\"/>\r\n      </g>\r\n     </g>\r\n    </g>\r\n    <g id=\"ytick_7\">\r\n     <g id=\"line2d_12\">\r\n      <g>\r\n       <use style=\"stroke:#000000;stroke-width:0.8;\" x=\"278.3395\" xlink:href=\"#m59b50fe561\" y=\"215.24934\"/>\r\n      </g>\r\n     </g>\r\n     <g id=\"text_13\">\r\n      <!-- 1 -->\r\n      <defs>\r\n       <path d=\"M 12.40625 8.296875 \r\nL 28.515625 8.296875 \r\nL 28.515625 63.921875 \r\nL 10.984375 60.40625 \r\nL 10.984375 69.390625 \r\nL 28.421875 72.90625 \r\nL 38.28125 72.90625 \r\nL 38.28125 8.296875 \r\nL 54.390625 8.296875 \r\nL 54.390625 0 \r\nL 12.40625 0 \r\nz\r\n\" id=\"DejaVuSans-49\"/>\r\n      </defs>\r\n      <g transform=\"translate(285.3395 219.048559)scale(0.1 -0.1)\">\r\n       <use xlink:href=\"#DejaVuSans-49\"/>\r\n      </g>\r\n     </g>\r\n    </g>\r\n    <g id=\"ytick_8\">\r\n     <g id=\"line2d_13\">\r\n      <g>\r\n       <use style=\"stroke:#000000;stroke-width:0.8;\" x=\"278.3395\" xlink:href=\"#m59b50fe561\" y=\"184.498681\"/>\r\n      </g>\r\n     </g>\r\n     <g id=\"text_14\">\r\n      <!-- 2 -->\r\n      <g transform=\"translate(285.3395 188.297899)scale(0.1 -0.1)\">\r\n       <use xlink:href=\"#DejaVuSans-50\"/>\r\n      </g>\r\n     </g>\r\n    </g>\r\n    <g id=\"ytick_9\">\r\n     <g id=\"line2d_14\">\r\n      <g>\r\n       <use style=\"stroke:#000000;stroke-width:0.8;\" x=\"278.3395\" xlink:href=\"#m59b50fe561\" y=\"153.748021\"/>\r\n      </g>\r\n     </g>\r\n     <g id=\"text_15\">\r\n      <!-- 3 -->\r\n      <defs>\r\n       <path d=\"M 40.578125 39.3125 \r\nQ 47.65625 37.796875 51.625 33 \r\nQ 55.609375 28.21875 55.609375 21.1875 \r\nQ 55.609375 10.40625 48.1875 4.484375 \r\nQ 40.765625 -1.421875 27.09375 -1.421875 \r\nQ 22.515625 -1.421875 17.65625 -0.515625 \r\nQ 12.796875 0.390625 7.625 2.203125 \r\nL 7.625 11.71875 \r\nQ 11.71875 9.328125 16.59375 8.109375 \r\nQ 21.484375 6.890625 26.8125 6.890625 \r\nQ 36.078125 6.890625 40.9375 10.546875 \r\nQ 45.796875 14.203125 45.796875 21.1875 \r\nQ 45.796875 27.640625 41.28125 31.265625 \r\nQ 36.765625 34.90625 28.71875 34.90625 \r\nL 20.21875 34.90625 \r\nL 20.21875 43.015625 \r\nL 29.109375 43.015625 \r\nQ 36.375 43.015625 40.234375 45.921875 \r\nQ 44.09375 48.828125 44.09375 54.296875 \r\nQ 44.09375 59.90625 40.109375 62.90625 \r\nQ 36.140625 65.921875 28.71875 65.921875 \r\nQ 24.65625 65.921875 20.015625 65.03125 \r\nQ 15.375 64.15625 9.8125 62.3125 \r\nL 9.8125 71.09375 \r\nQ 15.4375 72.65625 20.34375 73.4375 \r\nQ 25.25 74.21875 29.59375 74.21875 \r\nQ 40.828125 74.21875 47.359375 69.109375 \r\nQ 53.90625 64.015625 53.90625 55.328125 \r\nQ 53.90625 49.265625 50.4375 45.09375 \r\nQ 46.96875 40.921875 40.578125 39.3125 \r\nz\r\n\" id=\"DejaVuSans-51\"/>\r\n      </defs>\r\n      <g transform=\"translate(285.3395 157.54724)scale(0.1 -0.1)\">\r\n       <use xlink:href=\"#DejaVuSans-51\"/>\r\n      </g>\r\n     </g>\r\n    </g>\r\n    <g id=\"ytick_10\">\r\n     <g id=\"line2d_15\">\r\n      <g>\r\n       <use style=\"stroke:#000000;stroke-width:0.8;\" x=\"278.3395\" xlink:href=\"#m59b50fe561\" y=\"122.997361\"/>\r\n      </g>\r\n     </g>\r\n     <g id=\"text_16\">\r\n      <!-- 4 -->\r\n      <g transform=\"translate(285.3395 126.79658)scale(0.1 -0.1)\">\r\n       <use xlink:href=\"#DejaVuSans-52\"/>\r\n      </g>\r\n     </g>\r\n    </g>\r\n    <g id=\"ytick_11\">\r\n     <g id=\"line2d_16\">\r\n      <g>\r\n       <use style=\"stroke:#000000;stroke-width:0.8;\" x=\"278.3395\" xlink:href=\"#m59b50fe561\" y=\"92.246701\"/>\r\n      </g>\r\n     </g>\r\n     <g id=\"text_17\">\r\n      <!-- 5 -->\r\n      <defs>\r\n       <path d=\"M 10.796875 72.90625 \r\nL 49.515625 72.90625 \r\nL 49.515625 64.59375 \r\nL 19.828125 64.59375 \r\nL 19.828125 46.734375 \r\nQ 21.96875 47.46875 24.109375 47.828125 \r\nQ 26.265625 48.1875 28.421875 48.1875 \r\nQ 40.625 48.1875 47.75 41.5 \r\nQ 54.890625 34.8125 54.890625 23.390625 \r\nQ 54.890625 11.625 47.5625 5.09375 \r\nQ 40.234375 -1.421875 26.90625 -1.421875 \r\nQ 22.3125 -1.421875 17.546875 -0.640625 \r\nQ 12.796875 0.140625 7.71875 1.703125 \r\nL 7.71875 11.625 \r\nQ 12.109375 9.234375 16.796875 8.0625 \r\nQ 21.484375 6.890625 26.703125 6.890625 \r\nQ 35.15625 6.890625 40.078125 11.328125 \r\nQ 45.015625 15.765625 45.015625 23.390625 \r\nQ 45.015625 31 40.078125 35.4375 \r\nQ 35.15625 39.890625 26.703125 39.890625 \r\nQ 22.75 39.890625 18.8125 39.015625 \r\nQ 14.890625 38.140625 10.796875 36.28125 \r\nz\r\n\" id=\"DejaVuSans-53\"/>\r\n      </defs>\r\n      <g transform=\"translate(285.3395 96.04592)scale(0.1 -0.1)\">\r\n       <use xlink:href=\"#DejaVuSans-53\"/>\r\n      </g>\r\n     </g>\r\n    </g>\r\n    <g id=\"ytick_12\">\r\n     <g id=\"line2d_17\">\r\n      <g>\r\n       <use style=\"stroke:#000000;stroke-width:0.8;\" x=\"278.3395\" xlink:href=\"#m59b50fe561\" y=\"61.496042\"/>\r\n      </g>\r\n     </g>\r\n     <g id=\"text_18\">\r\n      <!-- 6 -->\r\n      <g transform=\"translate(285.3395 65.295261)scale(0.1 -0.1)\">\r\n       <use xlink:href=\"#DejaVuSans-54\"/>\r\n      </g>\r\n     </g>\r\n    </g>\r\n    <g id=\"ytick_13\">\r\n     <g id=\"line2d_18\">\r\n      <g>\r\n       <use style=\"stroke:#000000;stroke-width:0.8;\" x=\"278.3395\" xlink:href=\"#m59b50fe561\" y=\"30.745382\"/>\r\n      </g>\r\n     </g>\r\n     <g id=\"text_19\">\r\n      <!-- 7 -->\r\n      <defs>\r\n       <path d=\"M 8.203125 72.90625 \r\nL 55.078125 72.90625 \r\nL 55.078125 68.703125 \r\nL 28.609375 0 \r\nL 18.3125 0 \r\nL 43.21875 64.59375 \r\nL 8.203125 64.59375 \r\nz\r\n\" id=\"DejaVuSans-55\"/>\r\n      </defs>\r\n      <g transform=\"translate(285.3395 34.544601)scale(0.1 -0.1)\">\r\n       <use xlink:href=\"#DejaVuSans-55\"/>\r\n      </g>\r\n     </g>\r\n    </g>\r\n   </g>\r\n   <g id=\"patch_8\">\r\n    <path d=\"M 267.4675 246 \r\nL 267.4675 245.150625 \r\nL 267.4675 29.409375 \r\nL 267.4675 28.56 \r\nL 278.3395 28.56 \r\nL 278.3395 29.409375 \r\nL 278.3395 245.150625 \r\nL 278.3395 246 \r\nz\r\n\" style=\"fill:none;stroke:#000000;stroke-linejoin:miter;stroke-width:0.8;\"/>\r\n   </g>\r\n  </g>\r\n </g>\r\n <defs>\r\n  <clipPath id=\"pe9506df5a0\">\r\n   <rect height=\"217.44\" width=\"217.44\" x=\"33.2875\" y=\"28.56\"/>\r\n  </clipPath>\r\n  <clipPath id=\"pa7d557351e\">\r\n   <rect height=\"217.44\" width=\"10.872\" x=\"267.4675\" y=\"28.56\"/>\r\n  </clipPath>\r\n </defs>\r\n</svg>\r\n",
      "image/png": "[encoded data removed]"
     },
     "metadata": {
      "needs_background": "light"
     }
    }
   ],
   "source": [
    "plt.imshow(z, cmap=plt.cm.gray); plt.colorbar()\n",
    "plt.title(\"Image plot of $\\sqrt{x^2 + y^2}$ for a grid of values\")"
   ]
  },
  {
   "cell_type": "markdown",
   "metadata": {},
   "source": [
    "### Expressing Conditional Logic as Array Operations"
   ]
  },
  {
   "cell_type": "code",
   "execution_count": null,
   "metadata": {},
   "outputs": [],
   "source": []
  }
 ]
}